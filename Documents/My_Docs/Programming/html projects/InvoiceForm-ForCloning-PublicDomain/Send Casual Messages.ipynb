{
 "cells": [
  {
   "cell_type": "code",
   "execution_count": 1,
   "metadata": {},
   "outputs": [
    {
     "name": "stdout",
     "output_type": "stream",
     "text": [
      "hi\n"
     ]
    }
   ],
   "source": [
    "print(\"hi\")"
   ]
  },
  {
   "cell_type": "code",
   "execution_count": 2,
   "metadata": {},
   "outputs": [],
   "source": [
    "import requests\n",
    "\n",
    "access_token = 'EAAZAcPIXwA8UBOxz2eMDmg26kM0bNabTwZBXbOptl9prlvT275FxHuO5scfKg8UFhqbegJLln9nvpexjRqgFjBA2zEnNPZAcMBqqgwCd0S7zatL1ZAiNHBvEAICtW0Ges0ZAbgeiyePtV18J6W3QCPw4UADUZAdvxwZByomYBqnlVZBZC89tMPGam2IITOnxbEBLjeEZA7YP8L'\n",
    "access_token = \"EAAUONdoUiBcBPDK58koQglP3bMGHyHkMQvfxWMgZBcEkYnSvvzYLQaXN3HOEYnZBn7r1sQjtsZC5nQtWZBZCoRWYMh3hlHqDlbO1nt2JZAzheQzvS8nXMTY5OEmOoNFoiA8Ng656aXZA837EJfdKIpK7G1HqlzudmUSi2XWIT49RV1ZBuSaH9b9k5kJvlBb7dhzryIQtd1PXBkR5ZBZCsDEjPS\"\n",
    "recipient_id = \"9388739197831806\"\n",
    "\n",
    "def send_messenger_message(page_access_token, recipient_psid, message_data, messaging_type=\"RESPONSE\"):\n",
    "    \"\"\"\n",
    "    Sends a Messenger message using the Graph API.\n",
    "\n",
    "    Args:\n",
    "        page_access_token: Your Facebook Page access token.\n",
    "        recipient_psid: The Page-Scoped ID of the recipient.\n",
    "        message_data: A dictionary containing the message content (text, attachments, etc.).\n",
    "        messaging_type: The type of message (e.g., \"RESPONSE\", \"UPDATE\", \"MESSAGE_TAG\").\n",
    "    \"\"\"\n",
    "    api_version = \"v19.0\"  # or the latest version\n",
    "    url = f\"https://graph.facebook.com/{api_version}/me/messages\"\n",
    "\n",
    "    payload = {\n",
    "        \"recipient\": {\"id\": recipient_psid},\n",
    "        \"messaging_type\": messaging_type,\n",
    "        \"message\": message_data,\n",
    "    }\n",
    "\n",
    "    headers = {\n",
    "        \"Content-Type\": \"application/json\",\n",
    "    }\n",
    "\n",
    "    params = {\"access_token\": page_access_token}\n",
    "\n",
    "    try:\n",
    "        response = requests.post(url, json=payload, headers=headers, params=params)\n",
    "        response.raise_for_status()\n",
    "        print(\"Message sent successfully!\")\n",
    "        print(response.json())\n",
    "        return response.json()\n",
    "\n",
    "    except requests.exceptions.RequestException as e:\n",
    "        print(f\"Error sending message: {e}\")\n",
    "        if response is not None:\n",
    "            print(f\"Response content: {response.text}\")\n",
    "        return None\n",
    "\n"
   ]
  },
  {
   "cell_type": "code",
   "execution_count": 4,
   "metadata": {},
   "outputs": [
    {
     "name": "stdout",
     "output_type": "stream",
     "text": [
      "Message sent successfully!\n",
      "{'recipient_id': '3636722953029940', 'message_id': 'm_mzv2oQmvIjCNlTCPg7M4WT-r0UJDYadCFLMaLjiGM_dH0xrBrQW6LZn2V-7vecE0k8O466aOZOq-YQ-LNU6eBQ'}\n"
     ]
    },
    {
     "data": {
      "text/plain": [
       "{'recipient_id': '3636722953029940',\n",
       " 'message_id': 'm_mzv2oQmvIjCNlTCPg7M4WT-r0UJDYadCFLMaLjiGM_dH0xrBrQW6LZn2V-7vecE0k8O466aOZOq-YQ-LNU6eBQ'}"
      ]
     },
     "execution_count": 4,
     "metadata": {},
     "output_type": "execute_result"
    }
   ],
   "source": [
    "# Example usage (text message):\n",
    "page_token = access_token\n",
    "user_psid = recipient_id # Make sure this is the PSID of the person you want to message.\n",
    "user_psid = \"3636722953029940\" # me\n",
    "message_text = \"Hello from Python again!\"\n",
    "text_message_data = {\"text\": message_text}\n",
    "\n",
    "send_messenger_message(page_token, user_psid, text_message_data)\n"
   ]
  },
  {
   "cell_type": "code",
   "execution_count": 3,
   "metadata": {},
   "outputs": [],
   "source": [
    "recipient_id = \"9388739197831806\"\n",
    "\n",
    "def send_message(recipient_id, message_text, access_token):\n",
    "    import requests\n",
    "\n",
    "    \"\"\"Send a reply back to the user.\"\"\"\n",
    "    url = f\"https://graph.facebook.com/v18.0/me/messages?access_token={access_token}\"\n",
    "    headers = {\"Content-Type\": \"application/json\"}\n",
    "    payload = {\n",
    "        \"recipient\": {\"id\": recipient_id},\n",
    "        \"message\": {\"text\": message_text}\n",
    "    }\n",
    "\n",
    "    response = requests.post(url, json=payload, headers=headers)\n",
    "    print(f\"📤 Sent reply to {recipient_id}: {message_text}\")\n",
    "    print(f\"🔄 Response: {response.status_code}, {response.text}\")\n",
    "\n"
   ]
  },
  {
   "cell_type": "code",
   "execution_count": 18,
   "metadata": {},
   "outputs": [
    {
     "name": "stdout",
     "output_type": "stream",
     "text": [
      "📤 Sent reply to 9388739197831806: Hi\n",
      "🔄 Response: 200, {\"recipient_id\":\"9388739197831806\",\"message_id\":\"m_oKzAPhCZG-y_P1crDpuiXzfSkiQyj1v9KpMBgMDZP2IDBD05RHFjrMCRwElY_HW_KM0n7mUWzDfuV3t3AtvAYg\"}\n"
     ]
    }
   ],
   "source": [
    "send_message(recipient_id = recipient_id, message_text = \"Hi\", access_token = access_token)"
   ]
  },
  {
   "cell_type": "code",
   "execution_count": 3,
   "metadata": {},
   "outputs": [
    {
     "name": "stdout",
     "output_type": "stream",
     "text": [
      "Error sending message: 400 Client Error: Bad Request for url: https://graph.facebook.com/v19.0/me/messages?access_token=EAAUONdoUiBcBPDK58koQglP3bMGHyHkMQvfxWMgZBcEkYnSvvzYLQaXN3HOEYnZBn7r1sQjtsZC5nQtWZBZCoRWYMh3hlHqDlbO1nt2JZAzheQzvS8nXMTY5OEmOoNFoiA8Ng656aXZA837EJfdKIpK7G1HqlzudmUSi2XWIT49RV1ZBuSaH9b9k5kJvlBb7dhzryIQtd1PXBkR5ZBZCsDEjPS\n",
      "Response content: {\"error\":{\"message\":\"(#100) The media server does not allow downloading of the media due to robots.txt. If you control the server, consider allowlisting Meta's user agent for the media path.\",\"type\":\"OAuthException\",\"code\":100,\"error_subcode\":2018388,\"fbtrace_id\":\"AcAHvgXmBa2Sd0Qff0-CHgp\"}}\n"
     ]
    }
   ],
   "source": [
    "# Example usage (image attachment):\n",
    "image_url = \"https://i.ibb.co/gbsHW36V/Edit-Qamar-compressed.jpg\"\n",
    "image_message_data = {\n",
    "    \"attachment\": {\n",
    "        \"type\": \"image\",\n",
    "        \"payload\": {\n",
    "            \"url\": image_url,\n",
    "            \"is_reusable\": True, #Important for image caching and performance.\n",
    "        },\n",
    "    },\n",
    "}\n",
    "\n",
    "send_messenger_message(page_token, user_psid, image_message_data)"
   ]
  },
  {
   "cell_type": "code",
   "execution_count": 26,
   "metadata": {},
   "outputs": [],
   "source": [
    "def send_image(access_token, recipient_id, image_url):\n",
    "\n",
    "    url = f\"https://graph.facebook.com/v18.0/me/messages?access_token={access_token}\"\n",
    "    headers = {\"Content-Type\": \"application/json\"}\n",
    "\n",
    "    image_message_data = {\n",
    "    \"attachment\": {\n",
    "        \"type\": \"image\",\n",
    "        \"payload\": {\n",
    "            \"url\": image_url,\n",
    "            \"is_reusable\": True, #Important for image caching and performance.\n",
    "        },\n",
    "    },\n",
    "    }\n",
    "\n",
    "    payload = {\n",
    "        \"recipient\": {\"id\": recipient_id},\n",
    "        \"message\": image_message_data,\n",
    "    }\n",
    "\n",
    "    \n",
    "    response = requests.post(url, json=payload, headers=headers)\n",
    "    \n"
   ]
  },
  {
   "cell_type": "code",
   "execution_count": 27,
   "metadata": {},
   "outputs": [],
   "source": [
    "send_image(access_token = access_token, recipient_id = recipient_id, image_url = image_url)"
   ]
  },
  {
   "cell_type": "code",
   "execution_count": 24,
   "metadata": {},
   "outputs": [],
   "source": [
    "volume_links = \"\"\"\n",
    "https://i.ibb.co/Wv9GdCMW/DSC-0555-compressed.jpg\n",
    "https://i.ibb.co/tTsjz4gx/DSC-0483-compressed.jpg\n",
    "https://i.ibb.co/BHtHs6nB/DSC-0508-compressed.jpg\n",
    "https://i.ibb.co/gbsHW36V/Edit-Qamar-compressed.jpg\n",
    "\"\"\"\n",
    "volume_dl = volume_links.strip().split(\"\\n\")"
   ]
  },
  {
   "cell_type": "code",
   "execution_count": 25,
   "metadata": {},
   "outputs": [
    {
     "data": {
      "text/plain": [
       "['https://i.ibb.co/Wv9GdCMW/DSC-0555-compressed.jpg',\n",
       " 'https://i.ibb.co/tTsjz4gx/DSC-0483-compressed.jpg',\n",
       " 'https://i.ibb.co/BHtHs6nB/DSC-0508-compressed.jpg',\n",
       " 'https://i.ibb.co/gbsHW36V/Edit-Qamar-compressed.jpg']"
      ]
     },
     "execution_count": 25,
     "metadata": {},
     "output_type": "execute_result"
    }
   ],
   "source": [
    "volume_dl"
   ]
  },
  {
   "cell_type": "code",
   "execution_count": 28,
   "metadata": {},
   "outputs": [],
   "source": [
    "for image_link in volume_dl:\n",
    "    send_image(access_token, recipient_id, image_link)"
   ]
  },
  {
   "cell_type": "code",
   "execution_count": 10,
   "metadata": {},
   "outputs": [
    {
     "name": "stdout",
     "output_type": "stream",
     "text": [
      "📤 Sent reply to 3636722953029940: Ya hala!\n",
      "🔄 Response: 400, {\"error\":{\"message\":\"(#10) This message is sent outside of allowed window. Learn more about the new policy here: https:\\/\\/developers.facebook.com\\/docs\\/messenger-platform\\/policy-overview\",\"type\":\"OAuthException\",\"code\":10,\"error_subcode\":2018278,\"fbtrace_id\":\"Ai9EpcIuUMBkYslqLT28o7H\"}}\n"
     ]
    }
   ],
   "source": [
    "me = \"3636722953029940\"\n",
    "access_token = \"EAAUONdoUiBcBPDK58koQglP3bMGHyHkMQvfxWMgZBcEkYnSvvzYLQaXN3HOEYnZBn7r1sQjtsZC5nQtWZBZCoRWYMh3hlHqDlbO1nt2JZAzheQzvS8nXMTY5OEmOoNFoiA8Ng656aXZA837EJfdKIpK7G1HqlzudmUSi2XWIT49RV1ZBuSaH9b9k5kJvlBb7dhzryIQtd1PXBkR5ZBZCsDEjPS\"\n",
    "send_message(\n",
    "    recipient_id = me,\n",
    "    message_text = \"Ya hala!\",\n",
    "    access_token = access_token\n",
    ")\n"
   ]
  },
  {
   "cell_type": "code",
   "execution_count": null,
   "metadata": {},
   "outputs": [
    {
     "name": "stdout",
     "output_type": "stream",
     "text": [
      "{'error': {'message': '(#100) Invalid keys \"elements\" were found in param \"message[attachment]\".', 'type': 'OAuthException', 'code': 100, 'fbtrace_id': 'Asr9yO8XcwR6vf2qCy8A9o1'}}\n"
     ]
    }
   ],
   "source": [
    "target_link = \"https://orders.whitebedding.net/tuwf7q20251011\"\n",
    "img_verification_order_link = \"https://i.ibb.co/vxdH8xQ2/Landscape-Dark-Cyan.png\"\n",
    "# \"https://i.ibb.co/9HQHgxF1/Whats-App-Image-2025-10-12-at-00-02-18-d227e2a7.jpg\"\n",
    "\n",
    "\n",
    "api_version = \"v19.0\"  # or the latest version\n",
    "url = f\"https://graph.facebook.com/{api_version}/me/messages\"\n",
    "\n",
    "ahmed_psid = \"3737949672932624\"\n",
    "recipient_psid = ahmed_psid # me\n",
    "\n",
    "payload = {\n",
    "    \"recipient\": {\"id\": recipient_psid},\n",
    "    \"message\": {\n",
    "        \"attachment\": {\n",
    "            \"elements\": [\n",
    "                {\n",
    "            \"type\": \"template\",\n",
    "            \"payload\": {\n",
    "                \"template_type\": \"button\",\n",
    "                \"text\": \"لطفاً، اضغط الزر في الأسفل لتوكيد طلبك\",\n",
    "                \"buttons\": [\n",
    "                    {\n",
    "                        \"type\": \"web_url\",\n",
    "                        \"url\": target_link,\n",
    "                        \"title\": \"تأكيد الطلب\",\n",
    "                        \"webview_height_ratio\": \"tall\",\n",
    "                        \"messenger_extensions\": False\n",
    "                    }\n",
    "                ]\n",
    "            }\n",
    "        },\n",
    "            {\n",
    "            \"title\":\"شكراً لطلبك من الفراش الأبيض!\",\n",
    "            \"image_url\":img_verification_order_link,\n",
    "            \"default_action\": {\n",
    "              \"type\": \"web_url\",\n",
    "              \"url\": target_link,\n",
    "              \"webview_height_ratio\": \"tall\"\n",
    "                }\n",
    "        }\n",
    "            ],\n",
    "            \"type\": \"template\"\n",
    "        }\n",
    "    },\n",
    "}\n",
    "\n",
    "headers = {\n",
    "    \"Content-Type\": \"application/json\",\n",
    "}\n",
    "\n",
    "params = {\"access_token\": access_token}\n",
    "\n",
    "response = requests.post(url, json=payload, headers=headers, params=params)\n",
    "\n",
    "print(response.json())\n",
    "\n"
   ]
  },
  {
   "cell_type": "code",
   "execution_count": null,
   "metadata": {},
   "outputs": [],
   "source": []
  },
  {
   "cell_type": "code",
   "execution_count": null,
   "metadata": {},
   "outputs": [
    {
     "name": "stdout",
     "output_type": "stream",
     "text": [
      "Response status: 200\n",
      "{'recipient_id': '3636722953029940', 'message_id': 'm_ibTHDJ5kh97gmRGLv77Q_j-r0UJDYadCFLMaLjiGM_cYGv-bJb8sBi0PH_Td7GqfIPG0FZc5FSUhQpOBvCo8NQ'}\n"
     ]
    }
   ],
   "source": [
    "# Correctly structured generic template payload (matches the markdown example)\n",
    "me = \"3636722953029940\"\n",
    "import requests\n",
    "target_link = \"https://orders.whitebedding.net/tuwf7q20251011\"\n",
    "img_post_order_verification_link = \"https://i.ibb.co/fGG3b4Br/post-order-verification.jpg\"\n",
    "\n",
    "\n",
    "# Use the access_token and recipient_psid variables defined earlier in the notebook\n",
    "# access_token = '<PAGE_ACCESS_TOKEN>'\n",
    "# recipient_psid = '<PSID>'\n",
    "\n",
    "api_version = 'v22.0'\n",
    "url = f'https://graph.facebook.com/{api_version}/me/messages'\n",
    "\n",
    "# Build a generic template message payload according to Graph API docs\n",
    "payload = {\n",
    "    'recipient': {'id': me},\n",
    "    'message': {\n",
    "        'attachment': {\n",
    "            'type': 'template',\n",
    "            'payload': {\n",
    "                'template_type': 'generic',\n",
    "                'elements': [\n",
    "                    {\n",
    "                        'title': 'شكراً على طلبك!',\n",
    "                        'image_url': img_post_order_verification_link,\n",
    "                        'subtitle': 'لطفاً اضغط الزر في الأسفل لتوكيد طلبك',\n",
    "                        'default_action': {\n",
    "                            'type': 'web_url',\n",
    "                            'url': target_link,\n",
    "                            'webview_height_ratio': 'tall'\n",
    "                        },\n",
    "                        'buttons': [\n",
    "                            {\n",
    "                                'type': 'web_url',\n",
    "                                'url': target_link,\n",
    "                                'title': 'تأكيد الطلب'\n",
    "                            },\n",
    "                            # {\n",
    "                            #     'type': 'postback',\n",
    "                            #     'title': 'Start Chatting',\n",
    "                            #     'payload': 'DEVELOPER_DEFINED_PAYLOAD'\n",
    "                            # }\n",
    "                        ]\n",
    "                    }\n",
    "                ]\n",
    "            }\n",
    "        }\n",
    "    },\n",
    "    \"tag\": \"POST_PURCHASE_UPDATE\"\n",
    "}\n",
    "\n",
    "headers = {'Content-Type': 'application/json'}\n",
    "params = {'access_token': access_token}\n",
    "\n",
    "response = requests.post(url, json=payload, headers=headers, params=params)\n",
    "print('Response status:', response.status_code)\n",
    "try:\n",
    "    print(response.json())\n",
    "except Exception:\n",
    "    print(response.text)\n"
   ]
  },
  {
   "cell_type": "code",
   "execution_count": null,
   "metadata": {},
   "outputs": [
    {
     "name": "stdout",
     "output_type": "stream",
     "text": [
      "Response status: 200\n",
      "{'recipient_id': '3636722953029940', 'message_id': 'm_hrdT9YOKBnKpbFwSepoWKj-r0UJDYadCFLMaLjiGM_eCqt4DUT3bfTjXMABOQL2xRQKQI68NTsDnqXZWbrjvuQ'}\n"
     ]
    }
   ],
   "source": [
    "# Correctly structured generic template payload (matches the markdown example)\n",
    "import requests\n",
    "\n",
    "img_post_order_purchase_link = \"https://i.ibb.co/9HQHgxF1/Whats-App-Image-2025-10-12-at-00-02-18-d227e2a7.jpg\"\n",
    "\n",
    "\n",
    "\n",
    "# Use the access_token and recipient_psid variables defined earlier in the notebook\n",
    "# access_token = '<PAGE_ACCESS_TOKEN>'\n",
    "# recipient_psid = '<PSID>'\n",
    "\n",
    "api_version = 'v22.0'\n",
    "url = f'https://graph.facebook.com/{api_version}/me/messages'\n",
    "\n",
    "# Build a generic template message payload according to Graph API docs\n",
    "payload = {\n",
    "    'recipient': {'id': me},\n",
    "    'message': {\n",
    "        'attachment': {\n",
    "            'type': 'template',\n",
    "            'payload': {\n",
    "                'template_type': 'generic',\n",
    "                'elements': [\n",
    "                    {\n",
    "                        'title': 'تم تأكيد الطلب!',\n",
    "                        'image_url': img_post_order_purchase_link,\n",
    "                        'subtitle': 'شكراً لاختيارك الفراش الأبيض',\n",
    "\n",
    "                            # {\n",
    "                            #     'type': 'postback',\n",
    "                            #     'title': 'Start Chatting',\n",
    "                            #     'payload': 'DEVELOPER_DEFINED_PAYLOAD'\n",
    "                            # }\n",
    "                    }\n",
    "                ]\n",
    "            }\n",
    "\n",
    "        }\n",
    "    },\n",
    "    \n",
    "    \"tag\": \"POST_PURCHASE_UPDATE\"\n",
    "}\n",
    "\n",
    "headers = {'Content-Type': 'application/json'}\n",
    "params = {'access_token': access_token}\n",
    "\n",
    "response = requests.post(url, json=payload, headers=headers, params=params)\n",
    "print('Response status:', response.status_code)\n",
    "try:\n",
    "    print(response.json())\n",
    "except Exception:\n",
    "    print(response.text)\n"
   ]
  },
  {
   "cell_type": "markdown",
   "metadata": {},
   "source": [
    "curl -X POST -H \"Content-Type: application/json\" -d '{\n",
    "  \"recipient\":{\n",
    "    \"id\":\"<PSID>\"\n",
    "  },\n",
    "  \"message\":{\n",
    "    \"attachment\":{\n",
    "      \"type\":\"template\",\n",
    "      \"payload\":{\n",
    "        \"template_type\":\"generic\",\n",
    "        \"elements\":[\n",
    "           {\n",
    "            \"title\":\"Welcome!\",\n",
    "            \"image_url\":\"https://raw.githubusercontent.com/fbsamples/original-coast-clothing/main/public/styles/male-work.jpg\",\n",
    "            \"subtitle\":\"We have the right hat for everyone.\",\n",
    "            \"default_action\": {\n",
    "              \"type\": \"web_url\",\n",
    "              \"url\": \"https://www.originalcoastclothing.com/\",\n",
    "              \"webview_height_ratio\": \"tall\"\n",
    "            },\n",
    "            \"buttons\":[\n",
    "              {\n",
    "                \"type\":\"web_url\",\n",
    "                \"url\":\"https://www.originalcoastclothing.com/\",\n",
    "                \"title\":\"View Website\"\n",
    "              },{\n",
    "                \"type\":\"postback\",\n",
    "                \"title\":\"Start Chatting\",\n",
    "                \"payload\":\"DEVELOPER_DEFINED_PAYLOAD\"\n",
    "              }              \n",
    "            ]      \n",
    "          }\n",
    "        ]\n",
    "      }\n",
    "    }\n",
    "  }\n",
    "}' \"https://graph.facebook.com/v15.0/me/messages?access_token=<PAGE_ACCESS_TOKEN>\""
   ]
  }
 ],
 "metadata": {
  "kernelspec": {
   "display_name": "app_kit",
   "language": "python",
   "name": "python3"
  },
  "language_info": {
   "codemirror_mode": {
    "name": "ipython",
    "version": 3
   },
   "file_extension": ".py",
   "mimetype": "text/x-python",
   "name": "python",
   "nbconvert_exporter": "python",
   "pygments_lexer": "ipython3",
   "version": "3.10.13"
  }
 },
 "nbformat": 4,
 "nbformat_minor": 2
}
