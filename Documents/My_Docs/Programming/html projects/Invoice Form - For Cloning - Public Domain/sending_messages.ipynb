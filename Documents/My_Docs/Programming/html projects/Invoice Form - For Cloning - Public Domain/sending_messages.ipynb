{
 "cells": [
  {
   "cell_type": "code",
   "execution_count": 1,
   "id": "abe5229a",
   "metadata": {},
   "outputs": [],
   "source": [
    "import requests\n",
    "\n",
    "def send_messenger_message(page_access_token, recipient_psid, message_data, messaging_type=\"RESPONSE\"):\n",
    "    \"\"\"\n",
    "    Sends a Messenger message using the Graph API.\n",
    "\n",
    "    Args:\n",
    "        page_access_token: Your Facebook Page access token.\n",
    "        recipient_psid: The Page-Scoped ID of the recipient.\n",
    "        message_data: A dictionary containing the message content (text, attachments, etc.).\n",
    "        messaging_type: The type of message (e.g., \"RESPONSE\", \"UPDATE\", \"MESSAGE_TAG\").\n",
    "    \"\"\"\n",
    "    api_version = \"v19.0\"  # or the latest version\n",
    "    url = f\"https://graph.facebook.com/{api_version}/me/messages\"\n",
    "\n",
    "    payload = {\n",
    "        \"recipient\": {\"id\": recipient_psid},\n",
    "        \"messaging_type\": messaging_type,\n",
    "        \"message\": message_data,\n",
    "    }\n",
    "\n",
    "    headers = {\n",
    "        \"Content-Type\": \"application/json\",\n",
    "    }\n",
    "\n",
    "    params = {\"access_token\": page_access_token}\n",
    "\n",
    "    try:\n",
    "        response = requests.post(url, json=payload, headers=headers, params=params)\n",
    "        response.raise_for_status()\n",
    "        print(\"Message sent successfully!\")\n",
    "        print(response.json())\n",
    "        return response.json()\n",
    "\n",
    "    except requests.exceptions.RequestException as e:\n",
    "        print(f\"Error sending message: {e}\")\n",
    "        if response is not None:\n",
    "            print(f\"Response content: {response.text}\")\n",
    "        return None\n",
    "\n"
   ]
  },
  {
   "cell_type": "code",
   "execution_count": 2,
   "id": "bd9492b5",
   "metadata": {},
   "outputs": [],
   "source": [
    "def send_ig_message (ig_page_id, ig_access_token, recipient_id, message_text):\n",
    "\n",
    "    import requests\n",
    "\n",
    "    url = f\"https://graph.instagram.com/v23.0/{ig_page_id}/messages\"\n",
    "    headers = {\n",
    "        \"Authorization\": f\"Bearer {ig_access_token}\",\n",
    "        \"Content-Type\": \"application/json\"\n",
    "    }\n",
    "    payload = {\n",
    "        \"recipient\": {\"id\": recipient_id},\n",
    "        \"message\": {\"text\": message_text}\n",
    "    }\n",
    "\n",
    "    response = requests.post(url, json=payload, headers=headers)\n",
    "    print(response.status_code)\n",
    "    print(response.json())"
   ]
  }
 ],
 "metadata": {
  "kernelspec": {
   "display_name": "app_kit",
   "language": "python",
   "name": "python3"
  },
  "language_info": {
   "codemirror_mode": {
    "name": "ipython",
    "version": 3
   },
   "file_extension": ".py",
   "mimetype": "text/x-python",
   "name": "python",
   "nbconvert_exporter": "python",
   "pygments_lexer": "ipython3",
   "version": "3.10.13"
  }
 },
 "nbformat": 4,
 "nbformat_minor": 5
}
